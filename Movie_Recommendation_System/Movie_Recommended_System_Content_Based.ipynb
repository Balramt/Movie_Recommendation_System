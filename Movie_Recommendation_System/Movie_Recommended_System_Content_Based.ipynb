{
 "cells": [
  {
   "cell_type": "code",
   "execution_count": 1,
   "id": "14972845",
   "metadata": {},
   "outputs": [],
   "source": [
    "import numpy as np\n",
    "import pandas as pd"
   ]
  },
  {
   "cell_type": "code",
   "execution_count": 3,
   "id": "82dacee8",
   "metadata": {},
   "outputs": [],
   "source": [
    "movies= pd.read_csv(\"C:/Users/Dell/Documents/Data_Science/Movie_Recommendation_System/Datasets/tmdb_5000_movies.csv\")\n",
    "credits= pd.read_csv(\"C:/Users/Dell/Documents/Data_Science/Movie_Recommendation_System/Datasets/tmdb_5000_credits.csv\")"
   ]
  },
  {
   "cell_type": "code",
   "execution_count": 2,
   "id": "44ef79e8",
   "metadata": {},
   "outputs": [],
   "source": [
    "movies.head(2)"
   ]
  },
  {
   "cell_type": "code",
   "execution_count": 3,
   "id": "88f5f58d",
   "metadata": {},
   "outputs": [],
   "source": [
    "credits.head(1)['cast'].values #It return all values of cast for first movie in the list (Avatar)"
   ]
  },
  {
   "cell_type": "code",
   "execution_count": 4,
   "id": "863e68d0",
   "metadata": {},
   "outputs": [],
   "source": [
    "credits.head(1)"
   ]
  },
  {
   "cell_type": "code",
   "execution_count": 7,
   "id": "76f0489f",
   "metadata": {},
   "outputs": [],
   "source": [
    "movies = movies.merge(credits, on='title')# we merge movies dataset with credits datasets by using title column and assogn in movies variable"
   ]
  },
  {
   "cell_type": "code",
   "execution_count": 8,
   "id": "e9b41960",
   "metadata": {},
   "outputs": [
    {
     "data": {
      "text/plain": [
       "(4809, 23)"
      ]
     },
     "execution_count": 8,
     "metadata": {},
     "output_type": "execute_result"
    }
   ],
   "source": [
    "movies.shape # dimesion of dataset(movies)"
   ]
  },
  {
   "cell_type": "code",
   "execution_count": 5,
   "id": "2431dbcc",
   "metadata": {},
   "outputs": [],
   "source": [
    "movies.info()"
   ]
  },
  {
   "cell_type": "code",
   "execution_count": 23,
   "id": "6bd634ba",
   "metadata": {},
   "outputs": [],
   "source": [
    "#Now we are going to remove extra column which we have not required, below are the list of column that is necessary for our project\n",
    "#genres, id, keywords,title,overview, tile,cast,crew  ( we have ignored all the column which we have have numerical data type mostly)"
   ]
  },
  {
   "cell_type": "code",
   "execution_count": 6,
   "id": "f40dcef8",
   "metadata": {},
   "outputs": [],
   "source": [
    "# We extract the above column from datasets\n",
    "movies= movies[['movie_id','title','overview','genres','keywords','cast','crew']] \n",
    "movies.info() # total 6 column"
   ]
  },
  {
   "cell_type": "code",
   "execution_count": 7,
   "id": "112bc0b7",
   "metadata": {},
   "outputs": [],
   "source": [
    "movies.isnull().sum() # checking null value"
   ]
  },
  {
   "cell_type": "code",
   "execution_count": 8,
   "id": "f0a9c2b9",
   "metadata": {},
   "outputs": [],
   "source": [
    "movies.dropna(inplace=True) # Droping null value data\n",
    "movies.isnull().sum()"
   ]
  },
  {
   "cell_type": "code",
   "execution_count": 9,
   "id": "edae846a",
   "metadata": {},
   "outputs": [],
   "source": [
    "movies.duplicated().sum()#Checking duplicate value"
   ]
  },
  {
   "cell_type": "code",
   "execution_count": 10,
   "id": "89e66f97",
   "metadata": {},
   "outputs": [],
   "source": [
    "movies.iloc[0].genres # Return data for 0 row index location data for genre column"
   ]
  },
  {
   "cell_type": "code",
   "execution_count": 15,
   "id": "a62ee32f",
   "metadata": {},
   "outputs": [],
   "source": [
    "#Pre-Processing\n",
    "#We want to remove all the puctuation (\",: etc) and get only name values \n",
    "# We want to convert this dictonary into list in below format\n",
    "#['Action','Adventure','fantasy','SciF']\n",
    "# Below data is list of dictionary of string\n",
    "#'[{\"id\": 28, \"name\": \"Action\"}, {\"id\": 12, \"name\": \"Adventure\"}, {\"id\": 14, \"name\": \"Fantasy\"}, {\"id\": 878, \"name\": \"Science Fiction\"}]'"
   ]
  },
  {
   "cell_type": "code",
   "execution_count": 16,
   "id": "5437384f",
   "metadata": {},
   "outputs": [],
   "source": [
    "# We make helper function for above task\n",
    "def convert(obj):\n",
    "    L=[]\n",
    "    for i in obj:\n",
    "        L.append(L['name'])\n",
    "    return L"
   ]
  },
  {
   "cell_type": "code",
   "execution_count": 17,
   "id": "2ab01c91",
   "metadata": {},
   "outputs": [],
   "source": [
    "#convert('[{\"id\": 28, \"name\": \"Action\"}, {\"id\": 12, \"name\": \"Adventure\"}, {\"id\": 14, \"name\": \"Fantasy\"}, {\"id\": 878, \"name\": \"Science Fiction\"}]')\n",
    "# First we need to convert this string of list into list "
   ]
  },
  {
   "cell_type": "code",
   "execution_count": 11,
   "id": "fb8c0743",
   "metadata": {},
   "outputs": [],
   "source": [
    "#Below module and method are able to concert the string of list into list\n",
    "import ast\n",
    "ast.literal_eval('[{\"id\": 28, \"name\": \"Action\"}, {\"id\": 12, \"name\": \"Adventure\"}, {\"id\": 14, \"name\": \"Fantasy\"}, {\"id\": 878, \"name\": \"Science Fiction\"}]')"
   ]
  },
  {
   "cell_type": "code",
   "execution_count": 19,
   "id": "ec8bc8e3",
   "metadata": {},
   "outputs": [],
   "source": [
    "# We make helper function for above task\n",
    "def convert(obj):\n",
    "    L=[]\n",
    "    for i in ast.literal_eval(obj):\n",
    "        L.append(i['name'])\n",
    "    return L"
   ]
  },
  {
   "cell_type": "code",
   "execution_count": 17,
   "id": "d99a72ac",
   "metadata": {},
   "outputs": [
    {
     "data": {
      "text/plain": [
       "['Action', 'Adventure', 'Fantasy', 'Science Fiction']"
      ]
     },
     "execution_count": 17,
     "metadata": {},
     "output_type": "execute_result"
    }
   ],
   "source": [
    "convert('[{\"id\": 28, \"name\": \"Action\"}, {\"id\": 12, \"name\": \"Adventure\"}, {\"id\": 14, \"name\": \"Fantasy\"}, {\"id\": 878, \"name\": \"Science Fiction\"}]')"
   ]
  },
  {
   "cell_type": "code",
   "execution_count": 12,
   "id": "5c1bd2f6",
   "metadata": {},
   "outputs": [],
   "source": [
    "# Now we apply the convert function on genres column to get the without puctuation data\n",
    "genres_update_list = movies['genres'].apply(convert)  # Apply a function along an axis(Particular column data) of the DataFrame\n",
    "genres_update_list"
   ]
  },
  {
   "cell_type": "code",
   "execution_count": 13,
   "id": "81a51188",
   "metadata": {},
   "outputs": [],
   "source": [
    "#Assign the updated genres column in movie dataset\n",
    "movies['genres'] = genres_update_list \n",
    "movies.head(2)"
   ]
  },
  {
   "cell_type": "code",
   "execution_count": 22,
   "id": "e7822f3c",
   "metadata": {},
   "outputs": [],
   "source": [
    "# we will do for keywords column as well\n",
    "movies['keywords'] = movies['keywords'].apply(convert)"
   ]
  },
  {
   "cell_type": "code",
   "execution_count": 14,
   "id": "acea9553",
   "metadata": {},
   "outputs": [],
   "source": [
    "movies.head(2)"
   ]
  },
  {
   "cell_type": "code",
   "execution_count": 107,
   "id": "16861a22",
   "metadata": {},
   "outputs": [],
   "source": [
    "#Now we want to recommend for cast cloumn on basis of top three actors,so first we need to extract the top three actors from cast column\n",
    "#movies['cast'][0]"
   ]
  },
  {
   "cell_type": "code",
   "execution_count": 24,
   "id": "963bc607",
   "metadata": {},
   "outputs": [],
   "source": [
    "def convert_top3_actors(obj):\n",
    "    L=[]\n",
    "    counter=0\n",
    "    for i in ast.literal_eval(obj):\n",
    "        if counter !=3:               # Extract top three name of cast \n",
    "            L.append(i['name'])\n",
    "            counter+=1\n",
    "        else:\n",
    "            break\n",
    "    return L"
   ]
  },
  {
   "cell_type": "code",
   "execution_count": 25,
   "id": "8e153893",
   "metadata": {},
   "outputs": [],
   "source": [
    "movies['cast']=movies['cast'].apply(convert_top3_actors)"
   ]
  },
  {
   "cell_type": "code",
   "execution_count": 15,
   "id": "d569b08d",
   "metadata": {},
   "outputs": [],
   "source": [
    "movies.head(2)"
   ]
  },
  {
   "cell_type": "code",
   "execution_count": 27,
   "id": "c36bc71b",
   "metadata": {},
   "outputs": [],
   "source": [
    "#For crew we only want to recommend on basis of Director name\n",
    "#So I neeed to extract the values of that dictionary which contains director name\n",
    "#movies['crew'][0]\n",
    "def fetch_director(obj):\n",
    "    L=[]\n",
    "    for i in ast.literal_eval(obj):\n",
    "        if i['job'] == \"Director\": # via job key we find the director designation\n",
    "            L.append(i['name'])    # here we append the value (name of directopr)\n",
    "            break\n",
    "    return L"
   ]
  },
  {
   "cell_type": "code",
   "execution_count": 28,
   "id": "751b7c16",
   "metadata": {},
   "outputs": [],
   "source": [
    "Director_name_list = movies['crew'].apply(fetch_director) # It return the list of all director name for each row of data"
   ]
  },
  {
   "cell_type": "code",
   "execution_count": 29,
   "id": "a70172e6",
   "metadata": {},
   "outputs": [],
   "source": [
    "movies['crew'] = Director_name_list # Assigning the value into main movies dataset"
   ]
  },
  {
   "cell_type": "code",
   "execution_count": 16,
   "id": "103fc247",
   "metadata": {},
   "outputs": [],
   "source": [
    "movies.head(2)"
   ]
  },
  {
   "cell_type": "code",
   "execution_count": 128,
   "id": "16e16592",
   "metadata": {},
   "outputs": [
    {
     "data": {
      "text/plain": [
       "'In the 22nd century, a paraplegic Marine is dispatched to the moon Pandora on a unique mission, but becomes torn between following orders and protecting an alien civilization.'"
      ]
     },
     "execution_count": 128,
     "metadata": {},
     "output_type": "execute_result"
    }
   ],
   "source": [
    "movies['overview'][0]  # It is string so we convert it into list so that we can combine this"
   ]
  },
  {
   "cell_type": "code",
   "execution_count": 173,
   "id": "757d51e9",
   "metadata": {},
   "outputs": [],
   "source": [
    "# Both function convert the string into list seprated by space\n",
    "#def string_to_list(obj):\n",
    "#    L=[]\n",
    "#    L.append(obj.split())\n",
    "#    return L"
   ]
  },
  {
   "cell_type": "code",
   "execution_count": 31,
   "id": "45937f90",
   "metadata": {},
   "outputs": [],
   "source": [
    "movies[\"overview\"] = movies[\"overview\"].apply(lambda X:X.split())"
   ]
  },
  {
   "cell_type": "code",
   "execution_count": 17,
   "id": "cd41b27f",
   "metadata": {},
   "outputs": [],
   "source": [
    "movies.head(3)"
   ]
  },
  {
   "cell_type": "code",
   "execution_count": 33,
   "id": "9fd1f95b",
   "metadata": {},
   "outputs": [],
   "source": [
    "# We need to transformation of keywords by removing the space between them because if we see \"Sam Worthington\" and \"Sam Mendes\"\n",
    "#both keyword are different name but if someone search for sam then my model is getting confuse so we combined these type of keyword\n",
    "def combine_keword(obj):\n",
    "    L=[]\n",
    "    for i in obj:\n",
    "        L.append(i.replace(\" \",\"\"))\n",
    "    return L\n",
    "\n",
    "# movies['cast'].apply(lambda x:[i.replace(\" \",\"\") for i in x])   It also work as same AS ABOVE FUNCTION IS WORKING"
   ]
  },
  {
   "cell_type": "code",
   "execution_count": 34,
   "id": "d93e8654",
   "metadata": {},
   "outputs": [],
   "source": [
    "movies['genres'] = movies['genres'].apply(combine_keword)\n",
    "movies['keywords'] = movies['keywords'].apply(combine_keword)\n",
    "movies['cast'] = movies['cast'].apply(combine_keword)\n",
    "movies['crew'] = movies['crew'].apply(combine_keword)"
   ]
  },
  {
   "cell_type": "code",
   "execution_count": 18,
   "id": "6b9b7eab",
   "metadata": {},
   "outputs": [],
   "source": [
    "movies.head(3)"
   ]
  },
  {
   "cell_type": "code",
   "execution_count": 36,
   "id": "ba077e05",
   "metadata": {},
   "outputs": [],
   "source": [
    "# now we are going to create on column and concate the columns(overview,genres,keywords,cast,crew) into single column so that\n",
    "#we can apply search or filtering logic on that new column(tags)\n",
    "movies['tags'] = movies['overview']+movies['genres']+movies['keywords']+movies['cast']+movies['crew']"
   ]
  },
  {
   "cell_type": "code",
   "execution_count": 19,
   "id": "3b5f1aa4",
   "metadata": {},
   "outputs": [],
   "source": [
    "movies.head(2)"
   ]
  },
  {
   "cell_type": "code",
   "execution_count": 38,
   "id": "fa6cb22d",
   "metadata": {},
   "outputs": [],
   "source": [
    "#now we need only three below column for filtering so we create new df\n",
    "new_df= movies[['movie_id','title','tags']]"
   ]
  },
  {
   "cell_type": "code",
   "execution_count": 20,
   "id": "35251cc0",
   "metadata": {},
   "outputs": [],
   "source": [
    "new_df.head(2)"
   ]
  },
  {
   "cell_type": "code",
   "execution_count": 40,
   "id": "a54cd620",
   "metadata": {},
   "outputs": [],
   "source": [
    "#now we convert the list content of tags column into string\n",
    "def list_to_string(obj):\n",
    "    #print(\" \".join(obj))\n",
    "    return \" \".join(obj)\n",
    "\n",
    "#new_df['tags'].apply(lambda x:\" \".join(x))    It also work as same AS ABOVE FUNCTION IS WORKING"
   ]
  },
  {
   "cell_type": "code",
   "execution_count": 21,
   "id": "195bd43b",
   "metadata": {},
   "outputs": [],
   "source": [
    "new_df['tags'] = new_df['tags'].apply(list_to_string)"
   ]
  },
  {
   "cell_type": "code",
   "execution_count": 22,
   "id": "7a751638",
   "metadata": {},
   "outputs": [],
   "source": [
    "new_df.head(2)"
   ]
  },
  {
   "cell_type": "code",
   "execution_count": 23,
   "id": "6b83f597",
   "metadata": {},
   "outputs": [],
   "source": [
    "# convert all keywords of tags into lower case\n",
    "new_df['tags']= new_df['tags'].apply(lambda x:x.lower())"
   ]
  },
  {
   "cell_type": "code",
   "execution_count": 24,
   "id": "8db1547d",
   "metadata": {},
   "outputs": [],
   "source": [
    "new_df.head(2)"
   ]
  },
  {
   "cell_type": "code",
   "execution_count": 25,
   "id": "6f688cfd",
   "metadata": {},
   "outputs": [],
   "source": [
    "new_df['tags'][1]"
   ]
  },
  {
   "cell_type": "code",
   "execution_count": 47,
   "id": "223339f9",
   "metadata": {},
   "outputs": [],
   "source": [
    "from sklearn.feature_extraction.text import CountVectorizer\n",
    "cv =CountVectorizer(max_features = 5000, stop_words = 'english')"
   ]
  },
  {
   "cell_type": "code",
   "execution_count": 48,
   "id": "0beada2f",
   "metadata": {},
   "outputs": [],
   "source": [
    "vectors = cv.fit_transform(new_df['tags']).toarray() # transform gives sparse matrix convrting into array"
   ]
  },
  {
   "cell_type": "code",
   "execution_count": 49,
   "id": "a4c91e5f",
   "metadata": {},
   "outputs": [
    {
     "data": {
      "text/plain": [
       "(4806, 5000)"
      ]
     },
     "execution_count": 49,
     "metadata": {},
     "output_type": "execute_result"
    }
   ],
   "source": [
    "vectors.shape"
   ]
  },
  {
   "cell_type": "code",
   "execution_count": 50,
   "id": "995a5e4a",
   "metadata": {},
   "outputs": [
    {
     "data": {
      "text/plain": [
       "array([0, 0, 0, ..., 0, 0, 0], dtype=int64)"
      ]
     },
     "execution_count": 50,
     "metadata": {},
     "output_type": "execute_result"
    }
   ],
   "source": [
    "vectors[0]"
   ]
  },
  {
   "cell_type": "code",
   "execution_count": 26,
   "id": "65ef669f",
   "metadata": {},
   "outputs": [],
   "source": [
    "len(cv.get_feature_names())"
   ]
  },
  {
   "cell_type": "code",
   "execution_count": 27,
   "id": "5247cb03",
   "metadata": {},
   "outputs": [],
   "source": [
    "#It return top 5000 words(features)\n",
    "cv.get_feature_names() "
   ]
  },
  {
   "cell_type": "code",
   "execution_count": 64,
   "id": "7203802a",
   "metadata": {},
   "outputs": [],
   "source": [
    "import nltk"
   ]
  },
  {
   "cell_type": "code",
   "execution_count": 52,
   "id": "1ed0528e",
   "metadata": {},
   "outputs": [],
   "source": [
    "from nltk.stem.porter import PorterStemmer\n",
    "ps = PorterStemmer()"
   ]
  },
  {
   "cell_type": "code",
   "execution_count": 53,
   "id": "9c4e2026",
   "metadata": {},
   "outputs": [
    {
     "name": "stdout",
     "output_type": "stream",
     "text": [
      "love\n",
      "love\n",
      "love\n"
     ]
    }
   ],
   "source": [
    "# Below are example of stemming\n",
    "print(ps.stem('loved'))\n",
    "print(ps.stem('loves'))\n",
    "print(ps.stem('loving'))"
   ]
  },
  {
   "cell_type": "code",
   "execution_count": 54,
   "id": "538908dd",
   "metadata": {},
   "outputs": [],
   "source": [
    "def stemming(text):\n",
    "    L= []\n",
    "    for i in text.split():\n",
    "        L.append(ps.stem(i))\n",
    "    return \" \".join(L)\n",
    "    \n",
    "    "
   ]
  },
  {
   "cell_type": "code",
   "execution_count": 28,
   "id": "b14ada73",
   "metadata": {},
   "outputs": [],
   "source": [
    "stemming(\"captain barbossa, long believed to be dead, has come back to life and is headed to the edge of the earth with will turner and elizabeth swann. but nothing is quite as it seems. adventure fantasy action ocean drugabuse exoticisland eastindiatradingcompany loveofone'slife traitor shipwreck strongwoman ship alliance calypso afterlife fighter pirate swashbuckler aftercreditsstinger johnnydepp orlandobloom keiraknightley goreverbinski\")"
   ]
  },
  {
   "cell_type": "code",
   "execution_count": 29,
   "id": "b89ef995",
   "metadata": {},
   "outputs": [],
   "source": [
    "new_df['tags'] = new_df['tags'].apply(stemming)"
   ]
  },
  {
   "cell_type": "code",
   "execution_count": 56,
   "id": "02d8c107",
   "metadata": {},
   "outputs": [],
   "source": [
    "from sklearn.metrics.pairwise import cosine_similarity"
   ]
  },
  {
   "cell_type": "code",
   "execution_count": 57,
   "id": "24e40baf",
   "metadata": {},
   "outputs": [],
   "source": [
    "similarity = cosine_similarity(vectors)"
   ]
  },
  {
   "cell_type": "code",
   "execution_count": 58,
   "id": "0e511f21",
   "metadata": {},
   "outputs": [
    {
     "data": {
      "text/plain": [
       "(4806, 4806)"
      ]
     },
     "execution_count": 58,
     "metadata": {},
     "output_type": "execute_result"
    }
   ],
   "source": [
    "similarity.shape # we remove duplictaes thats why here 4806 movie vectors but in book we mentio 5000 movies"
   ]
  },
  {
   "cell_type": "code",
   "execution_count": 30,
   "id": "2ccb1802",
   "metadata": {},
   "outputs": [],
   "source": [
    "similarity[0]"
   ]
  },
  {
   "cell_type": "code",
   "execution_count": null,
   "id": "6ec09c05",
   "metadata": {},
   "outputs": [],
   "source": [
    "# If someone give me movie name(eg. Avatar) then\n",
    "# 1st step : We find the index of avatar in our data frame (index of Avatar = 0)\n",
    "# 2nd step : Then we find the vector for that movie (vectors[0])\n",
    "# 3rd step  : Then we sort the vector (vectors[0]) and return top 5 highest"
   ]
  },
  {
   "cell_type": "code",
   "execution_count": 32,
   "id": "36664b62",
   "metadata": {},
   "outputs": [],
   "source": [
    "# Below code are able to fecth the index of the movie\n",
    "mov_index = new_df[new_df['title'] == \"Avatar\"].index[0]\n",
    "mov_index"
   ]
  },
  {
   "cell_type": "code",
   "execution_count": 31,
   "id": "7228771d",
   "metadata": {},
   "outputs": [],
   "source": [
    "similarity[mov_index]"
   ]
  },
  {
   "cell_type": "code",
   "execution_count": 33,
   "id": "34dcc945",
   "metadata": {},
   "outputs": [],
   "source": [
    "# Enumerate help to bind theindex number with distance so that after sorting we have index\n",
    "# It gives the distance between 0th movie to each movie distance as(1st row M0 to M0 distance), (2nd row M0 to M1 distance)\n",
    "#list(enumerate(similarity[0]))\n",
    "sorted(list(enumerate(similarity[0])), reverse =True , key = lambda x:x[1]) # Sorting done on 1st column (index basis)"
   ]
  },
  {
   "cell_type": "code",
   "execution_count": null,
   "id": "35e46c22",
   "metadata": {},
   "outputs": [],
   "source": []
  },
  {
   "cell_type": "code",
   "execution_count": 34,
   "id": "294b8d0f",
   "metadata": {},
   "outputs": [],
   "source": [
    "new_df.head(3)"
   ]
  },
  {
   "cell_type": "code",
   "execution_count": 65,
   "id": "e1c539f3",
   "metadata": {},
   "outputs": [],
   "source": [
    "def recommend(movie):\n",
    "    movie_index = new_df[new_df['title'] == movie].index[0]\n",
    "    distances = similarity[movie_index]\n",
    "    # find top 5 movies list with index number and distance between them\n",
    "    movies_list = sorted(list(enumerate(distances)), reverse =True , key = lambda x:x[1])[1:6]\n",
    "    \n",
    "    for i in movies_list:\n",
    "        #print(i[0])# i[0] contains index \n",
    "        print(new_df.iloc[i[0]].title)# we fetch the title of movie by index postion\n",
    "    \n",
    "    "
   ]
  },
  {
   "cell_type": "code",
   "execution_count": 66,
   "id": "5c7eaefd",
   "metadata": {},
   "outputs": [
    {
     "name": "stdout",
     "output_type": "stream",
     "text": [
      "The Dark Knight\n",
      "The Dark Knight Rises\n",
      "Batman\n",
      "Batman & Robin\n",
      "Batman\n"
     ]
    }
   ],
   "source": [
    "recommend(\"Batman Begins\")"
   ]
  }
 ],
 "metadata": {
  "kernelspec": {
   "display_name": "Python 3 (ipykernel)",
   "language": "python",
   "name": "python3"
  },
  "language_info": {
   "codemirror_mode": {
    "name": "ipython",
    "version": 3
   },
   "file_extension": ".py",
   "mimetype": "text/x-python",
   "name": "python",
   "nbconvert_exporter": "python",
   "pygments_lexer": "ipython3",
   "version": "3.11.4"
  }
 },
 "nbformat": 4,
 "nbformat_minor": 5
}
